{
  "cells": [
    {
      "cell_type": "markdown",
      "metadata": {
        "id": "zNYe7sNCku06"
      },
      "source": [
        "# Model For Efficiently summarising Videos and Audio Files"
      ]
    },
    {
      "cell_type": "markdown",
      "metadata": {
        "id": "uVJv6CG3ku08"
      },
      "source": [
        "## Importing requried libraries"
      ]
    },
    {
      "cell_type": "code",
      "execution_count": 1,
      "metadata": {
        "colab": {
          "base_uri": "https://localhost:8080/"
        },
        "id": "XzokMRNmku08",
        "outputId": "23bc0e9e-a1c9-41a4-8b36-53002ba7f42c"
      },
      "outputs": [
        {
          "output_type": "stream",
          "name": "stdout",
          "text": [
            "Requirement already satisfied: transformers in /usr/local/lib/python3.10/dist-packages (4.42.4)\n",
            "Requirement already satisfied: torch in /usr/local/lib/python3.10/dist-packages (2.3.1+cu121)\n",
            "Requirement already satisfied: librosa in /usr/local/lib/python3.10/dist-packages (0.10.2.post1)\n",
            "Requirement already satisfied: soundfile in /usr/local/lib/python3.10/dist-packages (0.12.1)\n",
            "Requirement already satisfied: filelock in /usr/local/lib/python3.10/dist-packages (from transformers) (3.15.4)\n",
            "Requirement already satisfied: huggingface-hub<1.0,>=0.23.2 in /usr/local/lib/python3.10/dist-packages (from transformers) (0.23.5)\n",
            "Requirement already satisfied: numpy<2.0,>=1.17 in /usr/local/lib/python3.10/dist-packages (from transformers) (1.26.4)\n",
            "Requirement already satisfied: packaging>=20.0 in /usr/local/lib/python3.10/dist-packages (from transformers) (24.1)\n",
            "Requirement already satisfied: pyyaml>=5.1 in /usr/local/lib/python3.10/dist-packages (from transformers) (6.0.2)\n",
            "Requirement already satisfied: regex!=2019.12.17 in /usr/local/lib/python3.10/dist-packages (from transformers) (2024.5.15)\n",
            "Requirement already satisfied: requests in /usr/local/lib/python3.10/dist-packages (from transformers) (2.32.3)\n",
            "Requirement already satisfied: safetensors>=0.4.1 in /usr/local/lib/python3.10/dist-packages (from transformers) (0.4.4)\n",
            "Requirement already satisfied: tokenizers<0.20,>=0.19 in /usr/local/lib/python3.10/dist-packages (from transformers) (0.19.1)\n",
            "Requirement already satisfied: tqdm>=4.27 in /usr/local/lib/python3.10/dist-packages (from transformers) (4.66.5)\n",
            "Requirement already satisfied: typing-extensions>=4.8.0 in /usr/local/lib/python3.10/dist-packages (from torch) (4.12.2)\n",
            "Requirement already satisfied: sympy in /usr/local/lib/python3.10/dist-packages (from torch) (1.13.1)\n",
            "Requirement already satisfied: networkx in /usr/local/lib/python3.10/dist-packages (from torch) (3.3)\n",
            "Requirement already satisfied: jinja2 in /usr/local/lib/python3.10/dist-packages (from torch) (3.1.4)\n",
            "Requirement already satisfied: fsspec in /usr/local/lib/python3.10/dist-packages (from torch) (2024.6.1)\n",
            "Collecting nvidia-cuda-nvrtc-cu12==12.1.105 (from torch)\n",
            "  Using cached nvidia_cuda_nvrtc_cu12-12.1.105-py3-none-manylinux1_x86_64.whl.metadata (1.5 kB)\n",
            "Collecting nvidia-cuda-runtime-cu12==12.1.105 (from torch)\n",
            "  Using cached nvidia_cuda_runtime_cu12-12.1.105-py3-none-manylinux1_x86_64.whl.metadata (1.5 kB)\n",
            "Collecting nvidia-cuda-cupti-cu12==12.1.105 (from torch)\n",
            "  Using cached nvidia_cuda_cupti_cu12-12.1.105-py3-none-manylinux1_x86_64.whl.metadata (1.6 kB)\n",
            "Collecting nvidia-cudnn-cu12==8.9.2.26 (from torch)\n",
            "  Using cached nvidia_cudnn_cu12-8.9.2.26-py3-none-manylinux1_x86_64.whl.metadata (1.6 kB)\n",
            "Collecting nvidia-cublas-cu12==12.1.3.1 (from torch)\n",
            "  Using cached nvidia_cublas_cu12-12.1.3.1-py3-none-manylinux1_x86_64.whl.metadata (1.5 kB)\n",
            "Collecting nvidia-cufft-cu12==11.0.2.54 (from torch)\n",
            "  Using cached nvidia_cufft_cu12-11.0.2.54-py3-none-manylinux1_x86_64.whl.metadata (1.5 kB)\n",
            "Collecting nvidia-curand-cu12==10.3.2.106 (from torch)\n",
            "  Using cached nvidia_curand_cu12-10.3.2.106-py3-none-manylinux1_x86_64.whl.metadata (1.5 kB)\n",
            "Collecting nvidia-cusolver-cu12==11.4.5.107 (from torch)\n",
            "  Using cached nvidia_cusolver_cu12-11.4.5.107-py3-none-manylinux1_x86_64.whl.metadata (1.6 kB)\n",
            "Collecting nvidia-cusparse-cu12==12.1.0.106 (from torch)\n",
            "  Using cached nvidia_cusparse_cu12-12.1.0.106-py3-none-manylinux1_x86_64.whl.metadata (1.6 kB)\n",
            "Collecting nvidia-nccl-cu12==2.20.5 (from torch)\n",
            "  Using cached nvidia_nccl_cu12-2.20.5-py3-none-manylinux2014_x86_64.whl.metadata (1.8 kB)\n",
            "Collecting nvidia-nvtx-cu12==12.1.105 (from torch)\n",
            "  Using cached nvidia_nvtx_cu12-12.1.105-py3-none-manylinux1_x86_64.whl.metadata (1.7 kB)\n",
            "Requirement already satisfied: triton==2.3.1 in /usr/local/lib/python3.10/dist-packages (from torch) (2.3.1)\n",
            "Collecting nvidia-nvjitlink-cu12 (from nvidia-cusolver-cu12==11.4.5.107->torch)\n",
            "  Using cached nvidia_nvjitlink_cu12-12.6.20-py3-none-manylinux2014_x86_64.whl.metadata (1.5 kB)\n",
            "Requirement already satisfied: audioread>=2.1.9 in /usr/local/lib/python3.10/dist-packages (from librosa) (3.0.1)\n",
            "Requirement already satisfied: scipy>=1.2.0 in /usr/local/lib/python3.10/dist-packages (from librosa) (1.13.1)\n",
            "Requirement already satisfied: scikit-learn>=0.20.0 in /usr/local/lib/python3.10/dist-packages (from librosa) (1.3.2)\n",
            "Requirement already satisfied: joblib>=0.14 in /usr/local/lib/python3.10/dist-packages (from librosa) (1.4.2)\n",
            "Requirement already satisfied: decorator>=4.3.0 in /usr/local/lib/python3.10/dist-packages (from librosa) (4.4.2)\n",
            "Requirement already satisfied: numba>=0.51.0 in /usr/local/lib/python3.10/dist-packages (from librosa) (0.60.0)\n",
            "Requirement already satisfied: pooch>=1.1 in /usr/local/lib/python3.10/dist-packages (from librosa) (1.8.2)\n",
            "Requirement already satisfied: soxr>=0.3.2 in /usr/local/lib/python3.10/dist-packages (from librosa) (0.4.0)\n",
            "Requirement already satisfied: lazy-loader>=0.1 in /usr/local/lib/python3.10/dist-packages (from librosa) (0.4)\n",
            "Requirement already satisfied: msgpack>=1.0 in /usr/local/lib/python3.10/dist-packages (from librosa) (1.0.8)\n",
            "Requirement already satisfied: cffi>=1.0 in /usr/local/lib/python3.10/dist-packages (from soundfile) (1.17.0)\n",
            "Requirement already satisfied: pycparser in /usr/local/lib/python3.10/dist-packages (from cffi>=1.0->soundfile) (2.22)\n",
            "Requirement already satisfied: llvmlite<0.44,>=0.43.0dev0 in /usr/local/lib/python3.10/dist-packages (from numba>=0.51.0->librosa) (0.43.0)\n",
            "Requirement already satisfied: platformdirs>=2.5.0 in /usr/local/lib/python3.10/dist-packages (from pooch>=1.1->librosa) (4.2.2)\n",
            "Requirement already satisfied: charset-normalizer<4,>=2 in /usr/local/lib/python3.10/dist-packages (from requests->transformers) (3.3.2)\n",
            "Requirement already satisfied: idna<4,>=2.5 in /usr/local/lib/python3.10/dist-packages (from requests->transformers) (3.7)\n",
            "Requirement already satisfied: urllib3<3,>=1.21.1 in /usr/local/lib/python3.10/dist-packages (from requests->transformers) (2.0.7)\n",
            "Requirement already satisfied: certifi>=2017.4.17 in /usr/local/lib/python3.10/dist-packages (from requests->transformers) (2024.7.4)\n",
            "Requirement already satisfied: threadpoolctl>=2.0.0 in /usr/local/lib/python3.10/dist-packages (from scikit-learn>=0.20.0->librosa) (3.5.0)\n",
            "Requirement already satisfied: MarkupSafe>=2.0 in /usr/local/lib/python3.10/dist-packages (from jinja2->torch) (2.1.5)\n",
            "Requirement already satisfied: mpmath<1.4,>=1.1.0 in /usr/local/lib/python3.10/dist-packages (from sympy->torch) (1.3.0)\n",
            "Using cached nvidia_cublas_cu12-12.1.3.1-py3-none-manylinux1_x86_64.whl (410.6 MB)\n",
            "Using cached nvidia_cuda_cupti_cu12-12.1.105-py3-none-manylinux1_x86_64.whl (14.1 MB)\n",
            "Using cached nvidia_cuda_nvrtc_cu12-12.1.105-py3-none-manylinux1_x86_64.whl (23.7 MB)\n",
            "Using cached nvidia_cuda_runtime_cu12-12.1.105-py3-none-manylinux1_x86_64.whl (823 kB)\n",
            "Using cached nvidia_cudnn_cu12-8.9.2.26-py3-none-manylinux1_x86_64.whl (731.7 MB)\n",
            "Using cached nvidia_cufft_cu12-11.0.2.54-py3-none-manylinux1_x86_64.whl (121.6 MB)\n",
            "Using cached nvidia_curand_cu12-10.3.2.106-py3-none-manylinux1_x86_64.whl (56.5 MB)\n",
            "Using cached nvidia_cusolver_cu12-11.4.5.107-py3-none-manylinux1_x86_64.whl (124.2 MB)\n",
            "Using cached nvidia_cusparse_cu12-12.1.0.106-py3-none-manylinux1_x86_64.whl (196.0 MB)\n",
            "Using cached nvidia_nccl_cu12-2.20.5-py3-none-manylinux2014_x86_64.whl (176.2 MB)\n",
            "Using cached nvidia_nvtx_cu12-12.1.105-py3-none-manylinux1_x86_64.whl (99 kB)\n",
            "Using cached nvidia_nvjitlink_cu12-12.6.20-py3-none-manylinux2014_x86_64.whl (19.7 MB)\n",
            "Installing collected packages: nvidia-nvtx-cu12, nvidia-nvjitlink-cu12, nvidia-nccl-cu12, nvidia-curand-cu12, nvidia-cufft-cu12, nvidia-cuda-runtime-cu12, nvidia-cuda-nvrtc-cu12, nvidia-cuda-cupti-cu12, nvidia-cublas-cu12, nvidia-cusparse-cu12, nvidia-cudnn-cu12, nvidia-cusolver-cu12\n",
            "Successfully installed nvidia-cublas-cu12-12.1.3.1 nvidia-cuda-cupti-cu12-12.1.105 nvidia-cuda-nvrtc-cu12-12.1.105 nvidia-cuda-runtime-cu12-12.1.105 nvidia-cudnn-cu12-8.9.2.26 nvidia-cufft-cu12-11.0.2.54 nvidia-curand-cu12-10.3.2.106 nvidia-cusolver-cu12-11.4.5.107 nvidia-cusparse-cu12-12.1.0.106 nvidia-nccl-cu12-2.20.5 nvidia-nvjitlink-cu12-12.6.20 nvidia-nvtx-cu12-12.1.105\n"
          ]
        }
      ],
      "source": [
        "!pip install transformers torch librosa soundfile"
      ]
    },
    {
      "cell_type": "markdown",
      "source": [
        "## Loadind ASR (Automatic Speech Recogniser) model"
      ],
      "metadata": {
        "id": "sCo3TtaMlaEZ"
      }
    },
    {
      "cell_type": "markdown",
      "source": [
        "*ASR UPDATES:*\n",
        "- ASR default version does not accurately output the text translation of the audio file input\n",
        "- input file type: .wav"
      ],
      "metadata": {
        "id": "1oojjNoHUGXQ"
      }
    },
    {
      "cell_type": "code",
      "source": [
        "import transformers\n",
        "print(transformers.__version__)"
      ],
      "metadata": {
        "colab": {
          "base_uri": "https://localhost:8080/"
        },
        "id": "8MfC9FvRlqcj",
        "outputId": "8e3b87ce-6d99-48be-e5d1-ffa3f8ae151e"
      },
      "execution_count": 3,
      "outputs": [
        {
          "output_type": "stream",
          "name": "stdout",
          "text": [
            "4.42.4\n"
          ]
        }
      ]
    },
    {
      "cell_type": "code",
      "source": [
        "from transformers import Wav2Vec2ForCTC, Wav2Vec2Tokenizer\n",
        "import torch\n",
        "import librosa\n"
      ],
      "metadata": {
        "id": "Iz9BsPG5mZCJ"
      },
      "execution_count": 5,
      "outputs": []
    },
    {
      "cell_type": "markdown",
      "source": [
        "### Testing Data Import"
      ],
      "metadata": {
        "id": "RTiA8sr1ngRw"
      }
    },
    {
      "cell_type": "code",
      "source": [
        "from google.colab import drive\n",
        "drive.mount('/content/drive')"
      ],
      "metadata": {
        "colab": {
          "base_uri": "https://localhost:8080/"
        },
        "id": "0LZYyhBinf_z",
        "outputId": "41168c4d-e034-466a-98f6-e3efa6c85b63"
      },
      "execution_count": 6,
      "outputs": [
        {
          "output_type": "stream",
          "name": "stdout",
          "text": [
            "Mounted at /content/drive\n"
          ]
        }
      ]
    },
    {
      "cell_type": "code",
      "source": [
        "# import os\n",
        "# import zipfile\n",
        "\n",
        "# extracted_path = '/content/extracted_audio/'\n",
        "# with zipfile.ZipFile('/content/drive/MyDrive/1 Key Rule to Prevent 50% of Your Chess Mistakes.wav.download.zip', 'r') as zip_ref:\n",
        "#     zip_ref.extractall(extracted_path)\n",
        "\n",
        "# audio_file_path = os.path.join(extracted_path,'/content/drive/MyDrive/1 Key Rule to Prevent 50% of Your Chess Mistakes.wav.download/1 Key Rule to Prevent 50% of Your Chess Mistakes.wav')"
      ],
      "metadata": {
        "id": "DjDR7MwIHLYM"
      },
      "execution_count": 18,
      "outputs": []
    },
    {
      "cell_type": "code",
      "source": [
        "tokenizer = Wav2Vec2Tokenizer.from_pretrained(\"facebook/wav2vec2-base-960h\")\n",
        "model = Wav2Vec2ForCTC.from_pretrained(\"facebook/wav2vec2-base-960h\")\n",
        "audio_file_path = '/content/extracted_audio/1 Key Rule to Prevent 50% of Your Chess Mistakes.wav.download/1 Key Rule to Prevent 50% of Your Chess Mistakes.wav'\n",
        "#load file and preprocess\n",
        "audio_input = librosa.load(audio_file_path, sr=16000)[0]\n",
        "input_values = tokenizer(audio_input, return_tensors=\"pt\").input_values\n",
        "\n",
        "with torch.no_grad():\n",
        "    logits = model(input_values).logits\n",
        "\n",
        "predicted_ids = torch.argmax(logits, dim=-1)\n",
        "transcription = tokenizer.batch_decode(predicted_ids)\n",
        "print(transcription)"
      ],
      "metadata": {
        "colab": {
          "base_uri": "https://localhost:8080/"
        },
        "id": "MYFaanw3m5eO",
        "outputId": "cae91726-19eb-4e9a-c064-f3ba55035ed4"
      },
      "execution_count": 20,
      "outputs": [
        {
          "output_type": "stream",
          "name": "stderr",
          "text": [
            "The tokenizer class you load from this checkpoint is not the same type as the class this function is called from. It may result in unexpected tokenization. \n",
            "The tokenizer class you load from this checkpoint is 'Wav2Vec2CTCTokenizer'. \n",
            "The class this function is called from is 'Wav2Vec2Tokenizer'.\n",
            "/usr/local/lib/python3.10/dist-packages/transformers/models/wav2vec2/tokenization_wav2vec2.py:720: FutureWarning: The class `Wav2Vec2Tokenizer` is deprecated and will be removed in version 5 of Transformers. Please use `Wav2Vec2Processor` or `Wav2Vec2CTCTokenizer` instead.\n",
            "  warnings.warn(\n",
            "Some weights of the model checkpoint at facebook/wav2vec2-base-960h were not used when initializing Wav2Vec2ForCTC: ['wav2vec2.encoder.pos_conv_embed.conv.weight_g', 'wav2vec2.encoder.pos_conv_embed.conv.weight_v']\n",
            "- This IS expected if you are initializing Wav2Vec2ForCTC from the checkpoint of a model trained on another task or with another architecture (e.g. initializing a BertForSequenceClassification model from a BertForPreTraining model).\n",
            "- This IS NOT expected if you are initializing Wav2Vec2ForCTC from the checkpoint of a model that you expect to be exactly identical (initializing a BertForSequenceClassification model from a BertForSequenceClassification model).\n",
            "Some weights of Wav2Vec2ForCTC were not initialized from the model checkpoint at facebook/wav2vec2-base-960h and are newly initialized: ['wav2vec2.encoder.pos_conv_embed.conv.parametrizations.weight.original0', 'wav2vec2.encoder.pos_conv_embed.conv.parametrizations.weight.original1', 'wav2vec2.masked_spec_embed']\n",
            "You should probably TRAIN this model on a down-stream task to be able to use it for predictions and inference.\n"
          ]
        },
        {
          "output_type": "stream",
          "name": "stdout",
          "text": [
            "[\"THERE IS ONE MAJOR FACTOR THAT IS ABSOLUTELY NACESSARY FOR YOU TO PROGRESS TO THE LAVEL OFF SIXTEEN HUNDRED AND LATER ON TWO THOUSAND AND YOU ABSOLUTELY CAN NOT MAKE IT THERE WE'V OUD UNDER STANDING AND KNOWING HOW DO THES THING CLEARLY AND STRANGELY ENOUGH CHEST CRATERS USUALLY DON'T TALK ABOUT THIS AT ALL OR THEY JUST NATIONLY WITHOUT EXPLAIN HOW YOU ACTUALLYIN PL MENT THE SATY LET'S TALK ABOUT THIS POSITION IT IS WHITE TO PLAY PLEAS THINK ABOUT THIS FOR A SECOND AND PEK A MOVE WHICH YOU WOULD PLAY IF YOU WOLL WHITE AT THES POIN THEAS PEAK A MOVE AND AFTER THAT WILL DIS CUSS THIS NOW IN THE ACTUAL GAME WHIT PLAYED PONT OF FORD AND USUALLY WHEN I ASK STUDENTS TO EXPLAIN ME THERE THINK IT PROTSUS THEY TELL ME SOMETHING LIKE THIS SO N THIS POSITION THEY REALIZE THAT THEY CAN GO WITHTHEI'R PONT TO O FORD AND THAT HE'S THE NIGHT THAT HE'S THE POEN THAT OF COURSE THEY REALIZE THAT BLACK CAN TAKE HIY FOR THEY GET A CALCULATE THEY LIND WHAT IF PONTAKES O GAK CAN RE CAPTURE AND I STELL ATTACK THE NIGHT THEY FEELS PRETTY GOOD SO THEYRE FOKES IN TER TANTION ON THES ARRY OFF THE PORD RIGHTE IF WHERE THEY ATTACK SOMETHING THEY SEE LIKE IF FAX CHANGE THE NIGH GO SOME WHERE SOME WHERE AND THAN I GO WE FIVE MAY BEVEN ATTACK THIS NIGHT LIKE LAKES POL O GA SO THAT'S CINT OF THE THINK IN PROSE AND THAT WHAT HAPPENS AS SOON AS THEY PLAY THES MOVE PONT OF FIVE ON THE BOARD AS PLEAT SECOND LATER THEY REALIZE THAT HE WAIT A SECOND HE CAN ACTUALLY GRAB THES PO ON AH THREE AND NOT ONLY WITH THE NIGHT WHICH WOULD BE NOT THE OUNT OF THE WORLD CAUSE YOU CAN ALSO TAKE A POEN BUT WITH A QUEEN WITH A CHECK TO YOUR KEEN ANDS LIKE YOUR POSITIO REALLY FOLLS TA PORD AND WHEN YOU REALIZE THAT YOU SEEF THERE PRAIN FOR YOUR PONIN TO NOT SEE THE MOV QUEEN TAKE ACH THREE AND THAN IF YOU SECONDS LATER HE SHAMELESSLY PLAYE THIS MOVE QUIN AH THREE THAN YOU STAR BEATING YOURSELF UP FOR RUININ A GOOD POSSESSION WHEN THIS AKNOWING BLUNDER AND YOU CANNA LOSE INTERES TO THE GAME YOU START SOME WOULD MENTALLY RESIN YOU PLAIN NACS MOVES WITH ALL THAT MUCH THINKING LIKE YOU PLAYED HERE WHICH WAS ACTUALLY ONE MORE BLUNDER BECAUSE NOW AFTER A NIGHT GE FOR NOWLY WHY LOSS TO POEN BUT NOW THEY'RE THREATENING THE QUEEN AND THEIS CHECK MADE ON ACH TOO SO THA WAS ANOTHER BIG BLUNDERACTUALLY WIGHT WENT THE OTHER WAY THE GAME WOULD CONTINUE NOW AFTER A NIGHT GE FOR IT'S PRERY MUCH OVER WHEN HH TOR NIGHT TAKES SHE THREE SO I INDEED RUIND AN EQUAL POSITION WITHIN A YOU MOVES IN FACT AFTER QUEEN BE SIX PLIK LAKE NAT IF FREE CHECK MADE AND IT WAS ALL OVER NOW THAT IS THE MAME PROBLEM FOR PEOPLL AND PERHAVES FOR YOU TO HAVEIN CONSISTENT RESULTS WHERE SOMETIMES TO PLAY GREAT GAMES IN YOU WANS SOMETIMES TO PLAY BAT GAMES YOU BLUNDER AN YOU LOSE AND THE ONE THING THAT I WON A MENTION RIGHT AF THE VER BEGINNINS THAT IT Y'S NORMAL WHEN I NALIZE GAMES OF PLAYERS RATIN BELOW LIKE SIXTEEN HUNDRED TO BE ON US THERE ARE BLUNDERS AT LITERALLY AVE REGAIN THAT THEY PLAYE FROM BOTH SIDES FROM THAM AN FROM THE SIDE OF THEIR PONENT IS JUST THAT SOME BLUNDERS REMAIN TO BE UN KNOWTHICES BY BOTH SIDES AND THAND PEOPLE DON'T EVEN REALIZE THAT THER WAS A BLUNDER THIS CAMES IN FACT THERRE GREATER QUANTITY OF BLUNDERS THAN PEOPLE REALIZE SO LIKE  DON'T BE TO HORN YOURSELF THE BOLT THAT BUT THE MAIN QUASHIO OF CORS IS HOW YOU PREVENT THES FROM HAPPIT SO LET'S COME BACK TO THAT ORIGINAL POSITION NOW IV FOR WAS LIKE FAIRLY CLEARLY BLUNDER BECAUSE BLACKE COO GRANT THES POE BUT HOW BOUT LET'S THEY PONAGE FOR THE MOON WHICH SEEMS TO BE A LOT BATTER CAUSE YOU LIKE REMOVE THES PL FROM THE ATTACK LIKE WHAT I THINK ABOUT THIS MIS THIS A GOOD MO FOR WHIE T PLAY OR NOT MAYBE THAT WAS THE MOVE THAT YOU PIKE ANITIALLY OR MAYME NO I DON LET ME ALL THE CALNS BELOW LIKE I WAS STRYING TO EXPLAIN THE COMMON THINKIN PRSES I DON'T KNOW FOR SURE IF IT RESNAKES WITH YOU BUT IF SO LET MEN ON COUNS BELOW NOW SO AFTERAGE FOR HOW TO CALCULATE THAT MO NOW JUST SAYING THAT YOU SHOULD NOT BLUNDER IS A NICE IDEA CORS BUT IT DOESN'T REALLY HELP IS JUST LIKE SAYNG AT BE HAPPY AND HEALTHY AND WEALTHY LIKE WE GOT TOT KNOW HOW TO DO THA SO HOW AR YOU PREVEND THOSE BLUNDERS IN YOUR GANES KES IF YOU DO THAT THAT'S LIKE PLOSS THREE HUNDRED RATING POINS RIGHT AWAY RIGHT THY'S DAY OR CAMES HOW DO YOU DO THAT WEL THE FIRSE THING THAT DIS TINGUISH IS TRUN PLAYERS IS THAT THEY KNOW THAT THEY SHOULD NOT AT OLL CALCULATE MOVES LIKE THEAS TNAT MOON BACK YOU SHOULDN'T A SPAND ONE SACK AND THINKING ABOUT THOSE MOSES WHY BECAUSE THEY ARE NOT DANGEROUS SOO NOT HAVE TO WORRY ABOUT THAT LEK  GENERALLY SPEAKING WHEN YOU'R PLEN PLAYS WHAT EVER MOVE ON HIS SIDE OF THE BOARD THAT USUALLY DOES NOT A FACT YOU REALLY SO BLAK CAN PLAY ANY MOVE THERE THAT DOES NOT THRATEN YOU AND SO YOU DON'T HAVE TO WORRY ABOUT THIS YOU DON'T HAVE TO THINK ABUT THIS AT ALL YOU DON'T HAVE YOUR PIECES STANDING THERE AND HES SIDE OF THE BORD AND SO LIKE THERE'S NOTHING THAT YOU CAN BLUNDER THERE BECAUSE YOU DON'T HAVE ANYTHING THERE RIH SO STRONGER PLAYERS KNOW THAT THE RIGHT WE O THINKING IS THE OPPOSITE BONE SO IF YOU GO PON AGE FOR OR PON AT FORD DOESN'TD REALLY MATTER THE MOVES THAT YOU SHOULD CONSIDER FOR YOUR PONENT ALR THE MOSE THEY GO FOARD INTO YOUR HALF OF THE BOR LIKE THOSE ARE THE MOVES THAT YOU GOT A BE CONCERNED ABOUT RIGHT THE THOSE ARE THE MOVES THERE POSSIBLY DANGEROUS THEY CAN RUIN YOUR POSITION SO IF I CALCULAYE ANY MOVES OF THE NAT HAT OLL I WOUL CALCULATE THE'S FORD MOVE NIGHT TO ACH THREE NOW OF COURSE TO GT A WATCH OVER THIS THING BUT IT DOES NOT WORK WIKE CAN RECAPTURE AND THIS THEN DOES NOT ONE BECAUSE WE CAN TROLLIS SO NAGE THREE'S THE ONLY MOVE I WOULD BE CONCERNED ABOUT BECAUSE THAT PUT SOME PRUSH OR DOWN HERE AND MAYBE BLACK CAND SOLIDIFY HE'S ATTACK AN HE'S NACKS MOVES SO THAT'S THE ONLY O WOULD CONSIDER BUT NOT ONLY THAT WE\"]\n"
          ]
        }
      ]
    },
    {
      "cell_type": "markdown",
      "source": [
        "## Loading Summarization Model"
      ],
      "metadata": {
        "id": "OfxFF7e1qVk6"
      }
    },
    {
      "cell_type": "code",
      "source": [
        "from transformers import BartTokenizer, BartForConditionalGeneration\n",
        "\n",
        "#load model and tokenizer\n",
        "\n",
        "tokenizer = BartTokenizer.from_pretrained('facebook/bart-large-cnn')\n",
        "model = BartForConditionalGeneration.from_pretrained('facebook/bart-large-cnn')\n",
        "\n",
        "#tokenize input text which we got from the ASR\n",
        "inputs = tokenizer.encode(transcription[0], return_tensors='pt', max_length=1024, truncation=True)\n",
        "\n",
        "#generate summary\n",
        "summary_ids = model.generate(inputs, max_length=1000, min_length=5, length_penalty=2.0, num_beams=4, early_stopping=True)\n",
        "summary = tokenizer.decode(summary_ids[0], skip_special_tokens=True)\n",
        "print(summary)"
      ],
      "metadata": {
        "colab": {
          "base_uri": "https://localhost:8080/"
        },
        "id": "3B8xEiPzqauo",
        "outputId": "2601adfd-3c42-43af-a6f2-5c11a7400442"
      },
      "execution_count": 21,
      "outputs": [
        {
          "output_type": "stream",
          "name": "stdout",
          "text": [
            "THERE IS ONE MAJOR FACTor THAT IS ABSOLUTELY NACESSARY FOR YOU TO PROGRESS TO THE LAVEL OFF SIXTEEN HUNDRED AND LATER ON TWO THOUSAND AND YOU ABSOLutELY CAN'T MAKE IT THERE WE'V OUD UNDER STANDING AND KNOWING HOW DO THES THING CLEARLY AND STRANGELY ENOUGH CHEST CRATERS USUALLY DON'T TALK ABOUT THIS AT ALL OR THEY JUST NATIONLY WITHOUT EXPLAIN HOW YOU ACTUALLYIN PL MENT THE SATY.\n"
          ]
        }
      ]
    }
  ],
  "metadata": {
    "language_info": {
      "name": "python"
    },
    "orig_nbformat": 4,
    "colab": {
      "provenance": []
    },
    "kernelspec": {
      "name": "python3",
      "display_name": "Python 3"
    }
  },
  "nbformat": 4,
  "nbformat_minor": 0
}